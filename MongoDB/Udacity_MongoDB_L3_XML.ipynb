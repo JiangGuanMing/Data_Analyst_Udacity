{
 "cells": [
  {
   "cell_type": "markdown",
   "metadata": {},
   "source": [
    "# 解析 XML 檔案"
   ]
  },
  {
   "cell_type": "code",
   "execution_count": 5,
   "metadata": {},
   "outputs": [
    {
     "name": "stdout",
     "output_type": "stream",
     "text": [
      "\n",
      "Children of root:\n",
      "ui\n",
      "ji\n",
      "fm\n",
      "bdy\n",
      "bm\n"
     ]
    },
    {
     "data": {
      "text/plain": [
       "'\\ntitle = root.find(\\'./fm/bibl/title\\')\\ntitle_test = \"\"\\nfor p in title:\\n    title_text += p.text\\nprint(\"\\nTitle:\\n\", title_text)\\n\\nprint(\"\\nAuther email addresses:\")\\nfor a in root.findall(\\'./fm/bibl/aug/au\\'):\\n    email = a.find(\\'email\\')\\n    if email is not None:\\n        print(email.text)\\n\\n\\n'"
      ]
     },
     "execution_count": 5,
     "metadata": {},
     "output_type": "execute_result"
    }
   ],
   "source": [
    "import xml.etree.ElementTree as ET \n",
    "import pprint\n",
    "\n",
    "tree = ET.parse('exampleResearchArticle.xml')\n",
    "root = tree.getroot() # method\n",
    "\n",
    "print(\"\\nChildren of root:\")\n",
    "for child in root:\n",
    "    print(child.tag)\n",
    "    \n",
    "'''\n",
    "title = root.find('./fm/bibl/title')\n",
    "title_test = \"\"\n",
    "for p in title:\n",
    "    title_text += p.text\n",
    "print(\"\\nTitle:\\n\", title_text)\n",
    "\n",
    "print(\"\\nAuther email addresses:\")\n",
    "for a in root.findall('./fm/bibl/aug/au'):\n",
    "    email = a.find('email')\n",
    "    if email is not None:\n",
    "        print(email.text)\n",
    "\n",
    "\n",
    "'''"
   ]
  },
  {
   "cell_type": "code",
   "execution_count": null,
   "metadata": {},
   "outputs": [],
   "source": []
  }
 ],
 "metadata": {
  "kernelspec": {
   "display_name": "Python 3",
   "language": "python",
   "name": "python3"
  },
  "language_info": {
   "codemirror_mode": {
    "name": "ipython",
    "version": 3
   },
   "file_extension": ".py",
   "mimetype": "text/x-python",
   "name": "python",
   "nbconvert_exporter": "python",
   "pygments_lexer": "ipython3",
   "version": "3.6.5"
  }
 },
 "nbformat": 4,
 "nbformat_minor": 2
}
