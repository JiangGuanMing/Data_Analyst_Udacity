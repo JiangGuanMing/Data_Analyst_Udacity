{
 "cells": [
  {
   "cell_type": "markdown",
   "metadata": {},
   "source": [
    "# 練習拉"
   ]
  },
  {
   "cell_type": "code",
   "execution_count": null,
   "metadata": {},
   "outputs": [],
   "source": [
    "'''\n",
    "What is the most common city name in our cities collection?\n",
    "\n",
    "Your first attempt probably identified None as the most frequently occurring\n",
    "city name. What that actually means is that there are a number of cities\n",
    "without a name field at all. It's strange that such documents would exist in\n",
    "this collection and, depending on your situation, might actually warrant\n",
    "further cleaning. \n",
    "'''\n",
    "# find None\n",
    "def make_pipeline():\n",
    "    # complete the aggregation pipeline\n",
    "    pipeline = [\n",
    "        {\"$match\" : {\"name\" : {\"$ne\" : None}}},  # $ne = none equal\n",
    "        {\"$group\" : {\"_id\" : \"$name\",\n",
    "                    \"count\" : {\"$sum\" : 1} } },\n",
    "        {\"$sort\" : {\"count\" : -1}},\n",
    "        {\"$limit\" : 1}\n",
    "    ]\n",
    "    return pipeline"
   ]
  },
  {
   "cell_type": "code",
   "execution_count": null,
   "metadata": {},
   "outputs": [],
   "source": [
    "# Which Region in India has the largest number of cities with longitude between 75 and 80?\n",
    "\n",
    "# more constrain in match\n",
    "def make_pipeline():\n",
    "    # complete the aggregation pipeline\n",
    "    pipeline = [\n",
    "        {\"$match\" : {\"country\" : \"India\",\n",
    "                     \"lon\" : {\"$gt\" : 75},\n",
    "                     \"lon\" : {\"$lt\" : 80} } },\n",
    "        {\"$unwind\" : \"$isPartOf\"},\n",
    "        {\"$group\" : {\"_id\" : \"$isPartOf\", \n",
    "                     \"count\" : {\"$sum\" : 1} } },\n",
    "        {\"$sort\" : {\"count\" : -1} },\n",
    "        {\"$limit\" : 1}\n",
    "        ]\n",
    "    return pipeline"
   ]
  },
  {
   "cell_type": "code",
   "execution_count": null,
   "metadata": {},
   "outputs": [],
   "source": [
    "# create a id with two sub-document \n",
    "\n",
    "def make_pipeline():\n",
    "    # complete the aggregation pipeline\n",
    "    pipeline = [ \n",
    "        {'$match' : {\"name\": {\"$ne\" : \"NULL\"},\n",
    "                     \"country\" : {\"$ne\" : None} } },\n",
    "        {'$unwind': '$isPartOf'},\n",
    "        {'$group': {\"_id\": {\n",
    "                            \"country\" : \"$country\",\n",
    "                            \"region\" : \"$isPartOf\" },\n",
    "                            \"avgPop\" : {\"$avg\" : \"$population\"} } } ,\n",
    "        {'$group' : {\"_id\" : \"$_id.country\",\n",
    "                      \"avgRegionalPopulation\" : {\"$avg\":\"$avgPop\"} } } ]\n",
    "    return pipeline"
   ]
  }
 ],
 "metadata": {
  "kernelspec": {
   "display_name": "Python 3",
   "language": "python",
   "name": "python3"
  },
  "language_info": {
   "codemirror_mode": {
    "name": "ipython",
    "version": 3
   },
   "file_extension": ".py",
   "mimetype": "text/x-python",
   "name": "python",
   "nbconvert_exporter": "python",
   "pygments_lexer": "ipython3",
   "version": "3.6.5"
  }
 },
 "nbformat": 4,
 "nbformat_minor": 2
}
