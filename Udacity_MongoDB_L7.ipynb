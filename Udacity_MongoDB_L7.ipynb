{
 "cells": [
  {
   "cell_type": "markdown",
   "metadata": {},
   "source": [
    "# Udacity_MongoDB_L7\n",
    "正式介紹　MongoDB 啦！\n",
    "\n",
    "* I can't use \"pip install pymongo\" to dowmload pymongo package on my OA. So I try this code below on the internet class.\n",
    "\n",
    "* \"Collection\" is the name in MongoDB database. We can \"query\" or \"insert\" in collection...etc."
   ]
  },
  {
   "cell_type": "markdown",
   "metadata": {},
   "source": [
    "## create a collection\n",
    "http://api.mongodb.com/python/current/api/pymongo/database.html#pymongo.database.Database.create_collection"
   ]
  },
  {
   "cell_type": "code",
   "execution_count": null,
   "metadata": {},
   "outputs": [],
   "source": [
    "def insert_data(data, db):\n",
    "    # create a new collection \n",
    "    db.create_collection('name') \n",
    "    # insert the data into name collection\n",
    "    db.name.insert(data)"
   ]
  },
  {
   "cell_type": "markdown",
   "metadata": {},
   "source": [
    "## exercise \"query\"\n",
    "* key: query, project query\n",
    "\n",
    "* Applicate the projection to show the result clearly."
   ]
  },
  {
   "cell_type": "code",
   "execution_count": 1,
   "metadata": {},
   "outputs": [
    {
     "ename": "ModuleNotFoundError",
     "evalue": "No module named 'pymongo'",
     "output_type": "error",
     "traceback": [
      "\u001b[1;31m---------------------------------------------------------------------------\u001b[0m",
      "\u001b[1;31mModuleNotFoundError\u001b[0m                       Traceback (most recent call last)",
      "\u001b[1;32m<ipython-input-1-bb70942f58f5>\u001b[0m in \u001b[0;36m<module>\u001b[1;34m()\u001b[0m\n\u001b[0;32m      1\u001b[0m \u001b[1;31m# how to create a pymongo process\u001b[0m\u001b[1;33m\u001b[0m\u001b[1;33m\u001b[0m\u001b[0m\n\u001b[1;32m----> 2\u001b[1;33m \u001b[1;32mimport\u001b[0m \u001b[0mpymongo\u001b[0m\u001b[1;33m\u001b[0m\u001b[0m\n\u001b[0m",
      "\u001b[1;31mModuleNotFoundError\u001b[0m: No module named 'pymongo'"
     ]
    }
   ],
   "source": [
    "#!/usr/bin/env python\n",
    "\"\"\"\n",
    "Your task is to complete the 'porsche_query' function and in particular the query\n",
    "to find all autos where the manufacturer field matches \"Porsche\".\n",
    "Please modify only 'porsche_query' function, as only that will be taken into account.\n",
    "\n",
    "Your code will be run against a MongoDB instance that we have provided.\n",
    "If you want to run this code locally on your machine,\n",
    "you have to install MongoDB and download and insert the dataset.\n",
    "For instructions related to MongoDB setup and datasets please see Course Materials at\n",
    "the following link:\n",
    "https://www.udacity.com/wiki/ud032\n",
    "\"\"\"\n",
    "\n",
    "def porsche_query():\n",
    "    # Please fill in the query to find all autos manuafactured by Porsche.\n",
    "    #######################\n",
    "    # first we need to check row data(example_car.json), then find out there is item \"manufacturer\" conclude \"Porsche\"\n",
    "    # if you don't know how to find the answer, go back to last vedio.\n",
    "    query = {\"manufacturer\" : \"Porsche\"}  \n",
    "    # or 多段查尋　query = {\"manufacturer\" : \"Porsche\", \"class\", \"mid-size car\"}\n",
    "    # or project query (投影查詢)　projection = {\"_id\":0, \"name\",1} we only want to see the \"name\" not all file\n",
    "    #######################\n",
    "    return query\n",
    "\n",
    "\n",
    "# Do not edit code below this line in the online code editor.\n",
    "# Code here is for local use on your own computer.\n",
    "def get_db(db_name):\n",
    "    # For local use\n",
    "    from pymongo import MongoClient\n",
    "    client = MongoClient('localhost:27017')\n",
    "    db = client[db_name]\n",
    "    return db\n",
    "\n",
    "def find_porsche(db, query):\n",
    "    # For local use\n",
    "    return db.autos.find(query)\n",
    "\n",
    "''' \n",
    "######  ADD projection query  ######\n",
    "def find_porsche(db, query, projection):\n",
    "    # For local use\n",
    "    return db.autos.find(query, projection)\n",
    "'''\n",
    "\n",
    "if __name__ == \"__main__\":\n",
    "    # For local use\n",
    "    db = get_db('examples')\n",
    "    query = porsche_query()\n",
    "    results = find_porsche(db, query)\n",
    "\n",
    "    print \"Printing first 3 results\\n\"\n",
    "    import pprint\n",
    "    for car in results[:3]:\n",
    "        pprint.pprint(car)"
   ]
  },
  {
   "cell_type": "markdown",
   "metadata": {},
   "source": [
    "## exercise \"insert\""
   ]
  },
  {
   "cell_type": "code",
   "execution_count": null,
   "metadata": {},
   "outputs": [],
   "source": [
    "#!/usr/bin/env python\n",
    "\"\"\" \n",
    "Add a single line of code to the insert_autos function that will insert the\n",
    "automobile data into the 'autos' collection. The data variable that is\n",
    "returned from the process_file function is a list of dictionaries, as in the\n",
    "example in the previous video.\n",
    "\"\"\"\n",
    "\n",
    "from autos import process_file\n",
    "\n",
    "\n",
    "def insert_autos(infile, db):\n",
    "    data = process_file(infile)\n",
    "    # Add your code here. Insert the data in one command.\n",
    "    db.autos.insert(data) \n",
    "    #######  use the insert method on autos collection which is from db. #######\n",
    "        \n",
    "    \n",
    "if __name__ == \"__main__\":\n",
    "    # Code here is for local use on your own computer.\n",
    "    from pymongo import MongoClient\n",
    "    client = MongoClient(\"mongodb://localhost:27017\")\n",
    "    db = client.examples\n",
    "\n",
    "    insert_autos('autos-small.csv', db)\n",
    "    print db.autos.find_one()"
   ]
  },
  {
   "cell_type": "markdown",
   "metadata": {},
   "source": [
    "## 查詢範圍, 使用運算子\n",
    "key: 大於：'\\$gt', 大於等於：'\\$gte', 小於：'\\$lt', 小於等於：'\\$lte'"
   ]
  },
  {
   "cell_type": "code",
   "execution_count": null,
   "metadata": {},
   "outputs": [],
   "source": [
    "#!/usr/bin/env python\n",
    "\"\"\"\n",
    "Your task is to write a query that will return all cities\n",
    "that are founded in 21st century.\n",
    "Please modify only 'range_query' function, as only that will be taken into account.\n",
    "\n",
    "Your code will be run against a MongoDB instance that we have provided.\n",
    "If you want to run this code locally on your machine,\n",
    "you have to install MongoDB, download and insert the dataset.\n",
    "For instructions related to MongoDB setup and datasets please see Course Materials.\n",
    "\"\"\"\n",
    "\n",
    "from datetime import datetime\n",
    "    \n",
    "def range_query():\n",
    "    # Modify the below line with your query.\n",
    "    # You can use datetime(year, month, day) to specify date in the query\n",
    "    query = {'foundingDate': {'$gte': datetime(2001, 1, 1, 0, 0)}}\n",
    "    \n",
    "    #### query 'foundingDate' and deep research datetime is great than (2001,1,1,0,0) ####\n",
    "    #### '$' is indicate the operator in MongoDB. ####\n",
    "    \n",
    "    return query\n",
    "\n",
    "# Do not edit code below this line in the online code editor.\n",
    "# Code here is for local use on your own computer.\n",
    "def get_db():\n",
    "    from pymongo import MongoClient\n",
    "    client = MongoClient('localhost:27017')\n",
    "    db = client.examples\n",
    "    return db\n",
    "\n",
    "if __name__ == \"__main__\":\n",
    "    # For local use\n",
    "    db = get_db()\n",
    "    query = range_query()\n",
    "    cities = db.cities.find(query)\n",
    "\n",
    "    print \"Found cities:\", cities.count()\n",
    "    import pprint\n",
    "    pprint.pprint(cities[0])\n"
   ]
  },
  {
   "cell_type": "markdown",
   "metadata": {},
   "source": [
    "## exists"
   ]
  },
  {
   "cell_type": "code",
   "execution_count": null,
   "metadata": {},
   "outputs": [],
   "source": [
    "# find the number of existe govermentType\n",
    "db.cities.find({'govermentType':{'$exists':1}}).count()\n",
    "# show contents\n",
    "db.cities.find({'govermentType':{'$exists':1}}).pretty()\n",
    "# fing the number which do not exists govermentType\n",
    "db.cities.find({'govermentType':{'$exists':0}}).count()\n",
    "# show contents\n",
    "db.cities.find({'govermentType':{'$exists':1}}).pretty()"
   ]
  },
  {
   "cell_type": "markdown",
   "metadata": {},
   "source": [
    "## regular expression (正則運算符)"
   ]
  },
  {
   "cell_type": "code",
   "execution_count": null,
   "metadata": {},
   "outputs": [],
   "source": [
    "# find \"friendship\"\n",
    "db.cities.find({\"motto\":{\"$regex\":\"friendship\"}}).count()\n",
    "# find \"friendship\" 不分大小寫\n",
    "db.cities.find({\"motto\":{\"$regex\":\"[Ff]riendship\"}}).count()\n",
    "# find \"friendship\" and \"pride\" 不分大小寫\n",
    "db.cities.find({\"motto\":{\"$regex\":\"[Ff]riendship|[Pp]ride\"}}).count()"
   ]
  },
  {
   "cell_type": "markdown",
   "metadata": {},
   "source": [
    "## Research the array"
   ]
  },
  {
   "cell_type": "code",
   "execution_count": null,
   "metadata": {},
   "outputs": [],
   "source": [
    "db.autos.find({\"modelYears\":1980}).pretty()\n",
    "# 其列出的結果, 有可能 modelYears=[1956,1923,1989,1980]，　因為有包含到　1980 的年份，因此會被算進資料中"
   ]
  },
  {
   "cell_type": "markdown",
   "metadata": {},
   "source": [
    "## \"In\" operator"
   ]
  },
  {
   "cell_type": "code",
   "execution_count": null,
   "metadata": {},
   "outputs": [],
   "source": [
    "db.autos.find({\"modelYears\":{\"$in\":[1965, 1966, 1967]}}).count()  # 74\n",
    "# 所有有　1965 or 1966 or 1967 年份的資料全部被包入\n",
    "db.autos.find({\"modelYears\":{\"$in\":[1965, 1966, 1967, 1968]}}).count()  # 82"
   ]
  },
  {
   "cell_type": "markdown",
   "metadata": {},
   "source": [
    "## \"ALL\" operator\n",
    "or \"inverse IN\""
   ]
  },
  {
   "cell_type": "code",
   "execution_count": null,
   "metadata": {},
   "outputs": [],
   "source": [
    "db.autos.find({\"modelYears\":{\"$in\":[1965, 1966, 1967]}}).count()  # 98\n",
    "# 所有有　1965 and 1966 and 1967 年份同時有的資料才被包入\n",
    "db.autos.find({\"modelYears\":{\"$in\":[1965, 1966, 1967, 1968]}}).count()  # 33\n",
    "# 所有有　1965 and 1966 and 1967 and 1968 年份同時有的資料才被包入"
   ]
  },
  {
   "cell_type": "markdown",
   "metadata": {},
   "source": [
    "## \"dot\" notation"
   ]
  },
  {
   "cell_type": "code",
   "execution_count": null,
   "metadata": {},
   "outputs": [],
   "source": [
    "# find the autos whcih weigth is greater than 5000 in dimensions\n",
    "# 或是說　weight 是　dimension 的子項目，想要查詢子項目利用　dot notation\n",
    "db.autos.find({\"dimensions.weight\":{\"$gt\":5000}}).count()"
   ]
  },
  {
   "cell_type": "markdown",
   "metadata": {},
   "source": [
    "## \"Updating\" : 對現有collection中的文檔進行修改\n",
    "1. save()\n",
    "2. update() and \\$set  (set operator) or update() and \\$unset"
   ]
  },
  {
   "cell_type": "code",
   "execution_count": null,
   "metadata": {},
   "outputs": [],
   "source": [
    "##### save() #######\n",
    "def main():\n",
    "    # find_one: 找到第一個匹配的就停止\n",
    "    city = db.cities.find_one({\"name\":\"Muchen\",\n",
    "                              \"country\":\"Germany\"})\n",
    "    city[\"isoCountryCode\"] = \"DEU\"\n",
    "    db.cities.save(city)\n",
    "    # save() 會把原來沒有的\"isoCountryCode\" ˋ這個欄位創造並儲存在　city\n",
    "    \n",
    "    \n",
    "####### update() #######\n",
    "# 這邊只會更新第一個找到的匹配資料\n",
    "#---- $set-----#\n",
    "def find():\n",
    "    city = db.cities.update({\"name\":\"Muchen\",\n",
    "                              \"country\":\"Germany\"}, # query document\n",
    "                            {\"$set:{\n",
    "                             \"isoCountryCode\":\"DEU\" # set document\n",
    "                            })\n",
    "#---- $unset----#\n",
    "def find():\n",
    "    city = db.cities.update({\"name\":\"Muchen\",\n",
    "                              \"country\":\"Germany\"}, # query document\n",
    "                            {\"$unset:{\n",
    "                             \"isoCountryCode\":\"\"  # unset document\n",
    "                            })\n",
    "    \n",
    "# Do not do this\n",
    "def find():\n",
    "    city = db.cities.update({\"name\":\"Muchen\",\n",
    "                              \"country\":\"Germany\"}, # query document\n",
    "                            {\"isoCountryCode\":\"DEU\" # set document\n",
    "                            })\n",
    "    # 原有資料會被取代\n",
    "    \n",
    "# 若要更新所有的匹配資料則使用多項更新"
   ]
  },
  {
   "cell_type": "markdown",
   "metadata": {},
   "source": [
    "## Update multiple document(多項更新)"
   ]
  },
  {
   "cell_type": "code",
   "execution_count": null,
   "metadata": {},
   "outputs": [],
   "source": [
    "# 所有與　query document 匹配的資料都會更新\n",
    "def main():\n",
    "    db.cities.update({\"country\":\"Germany\"},\n",
    "                    {\"$set\":{\n",
    "                        \"isoCountryCode\":\"DEU\"\n",
    "                            }\n",
    "                    },\n",
    "                    multi=True)"
   ]
  },
  {
   "cell_type": "markdown",
   "metadata": {},
   "source": [
    "## Removing document (刪除文檔)"
   ]
  },
  {
   "cell_type": "code",
   "execution_count": null,
   "metadata": {},
   "outputs": [],
   "source": [
    "db.cities.find()\n",
    "db.cities.remove()\n",
    "db.cities.remove({\"name\":{\"exits\":0}}) # remove document which has no name\n",
    "db.cities.drop() # delete a collection"
   ]
  }
 ],
 "metadata": {
  "kernelspec": {
   "display_name": "Python 3",
   "language": "python",
   "name": "python3"
  },
  "language_info": {
   "codemirror_mode": {
    "name": "ipython",
    "version": 3
   },
   "file_extension": ".py",
   "mimetype": "text/x-python",
   "name": "python",
   "nbconvert_exporter": "python",
   "pygments_lexer": "ipython3",
   "version": "3.6.5"
  }
 },
 "nbformat": 4,
 "nbformat_minor": 2
}
